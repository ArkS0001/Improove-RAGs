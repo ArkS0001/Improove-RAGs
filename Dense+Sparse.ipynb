{
  "nbformat": 4,
  "nbformat_minor": 0,
  "metadata": {
    "colab": {
      "provenance": [],
      "authorship_tag": "ABX9TyM3PkCmrDeYIhEU5VfcThif",
      "include_colab_link": true
    },
    "kernelspec": {
      "name": "python3",
      "display_name": "Python 3"
    },
    "language_info": {
      "name": "python"
    },
    "widgets": {
      "application/vnd.jupyter.widget-state+json": {
        "1f1a1bb6b7af4f308625eb62da58b7f3": {
          "model_module": "@jupyter-widgets/controls",
          "model_name": "TextModel",
          "model_module_version": "1.5.0",
          "state": {
            "_dom_classes": [],
            "_model_module": "@jupyter-widgets/controls",
            "_model_module_version": "1.5.0",
            "_model_name": "TextModel",
            "_view_count": null,
            "_view_module": "@jupyter-widgets/controls",
            "_view_module_version": "1.5.0",
            "_view_name": "TextView",
            "continuous_update": true,
            "description": "",
            "description_tooltip": null,
            "disabled": false,
            "layout": "IPY_MODEL_95fe550243044f47910a05bca8848b0e",
            "placeholder": "Enter your query...",
            "style": "IPY_MODEL_3faa4da1ee9b4413983f8458c7503731",
            "value": "hello"
          }
        },
        "95fe550243044f47910a05bca8848b0e": {
          "model_module": "@jupyter-widgets/base",
          "model_name": "LayoutModel",
          "model_module_version": "1.2.0",
          "state": {
            "_model_module": "@jupyter-widgets/base",
            "_model_module_version": "1.2.0",
            "_model_name": "LayoutModel",
            "_view_count": null,
            "_view_module": "@jupyter-widgets/base",
            "_view_module_version": "1.2.0",
            "_view_name": "LayoutView",
            "align_content": null,
            "align_items": null,
            "align_self": null,
            "border": null,
            "bottom": null,
            "display": null,
            "flex": null,
            "flex_flow": null,
            "grid_area": null,
            "grid_auto_columns": null,
            "grid_auto_flow": null,
            "grid_auto_rows": null,
            "grid_column": null,
            "grid_gap": null,
            "grid_row": null,
            "grid_template_areas": null,
            "grid_template_columns": null,
            "grid_template_rows": null,
            "height": null,
            "justify_content": null,
            "justify_items": null,
            "left": null,
            "margin": null,
            "max_height": null,
            "max_width": null,
            "min_height": null,
            "min_width": null,
            "object_fit": null,
            "object_position": null,
            "order": null,
            "overflow": null,
            "overflow_x": null,
            "overflow_y": null,
            "padding": null,
            "right": null,
            "top": null,
            "visibility": null,
            "width": null
          }
        },
        "3faa4da1ee9b4413983f8458c7503731": {
          "model_module": "@jupyter-widgets/controls",
          "model_name": "DescriptionStyleModel",
          "model_module_version": "1.5.0",
          "state": {
            "_model_module": "@jupyter-widgets/controls",
            "_model_module_version": "1.5.0",
            "_model_name": "DescriptionStyleModel",
            "_view_count": null,
            "_view_module": "@jupyter-widgets/base",
            "_view_module_version": "1.2.0",
            "_view_name": "StyleView",
            "description_width": ""
          }
        },
        "c6312a1efbd74638abfcaeacd2ed6e9a": {
          "model_module": "@jupyter-widgets/controls",
          "model_name": "ButtonModel",
          "model_module_version": "1.5.0",
          "state": {
            "_dom_classes": [],
            "_model_module": "@jupyter-widgets/controls",
            "_model_module_version": "1.5.0",
            "_model_name": "ButtonModel",
            "_view_count": null,
            "_view_module": "@jupyter-widgets/controls",
            "_view_module_version": "1.5.0",
            "_view_name": "ButtonView",
            "button_style": "",
            "description": "Search",
            "disabled": false,
            "icon": "",
            "layout": "IPY_MODEL_708029ff4da340f0aa53ef3bdd0c2afb",
            "style": "IPY_MODEL_3732d8626dc7470e8247ec78a4e319a0",
            "tooltip": ""
          }
        },
        "708029ff4da340f0aa53ef3bdd0c2afb": {
          "model_module": "@jupyter-widgets/base",
          "model_name": "LayoutModel",
          "model_module_version": "1.2.0",
          "state": {
            "_model_module": "@jupyter-widgets/base",
            "_model_module_version": "1.2.0",
            "_model_name": "LayoutModel",
            "_view_count": null,
            "_view_module": "@jupyter-widgets/base",
            "_view_module_version": "1.2.0",
            "_view_name": "LayoutView",
            "align_content": null,
            "align_items": null,
            "align_self": null,
            "border": null,
            "bottom": null,
            "display": null,
            "flex": null,
            "flex_flow": null,
            "grid_area": null,
            "grid_auto_columns": null,
            "grid_auto_flow": null,
            "grid_auto_rows": null,
            "grid_column": null,
            "grid_gap": null,
            "grid_row": null,
            "grid_template_areas": null,
            "grid_template_columns": null,
            "grid_template_rows": null,
            "height": null,
            "justify_content": null,
            "justify_items": null,
            "left": null,
            "margin": null,
            "max_height": null,
            "max_width": null,
            "min_height": null,
            "min_width": null,
            "object_fit": null,
            "object_position": null,
            "order": null,
            "overflow": null,
            "overflow_x": null,
            "overflow_y": null,
            "padding": null,
            "right": null,
            "top": null,
            "visibility": null,
            "width": null
          }
        },
        "3732d8626dc7470e8247ec78a4e319a0": {
          "model_module": "@jupyter-widgets/controls",
          "model_name": "ButtonStyleModel",
          "model_module_version": "1.5.0",
          "state": {
            "_model_module": "@jupyter-widgets/controls",
            "_model_module_version": "1.5.0",
            "_model_name": "ButtonStyleModel",
            "_view_count": null,
            "_view_module": "@jupyter-widgets/base",
            "_view_module_version": "1.2.0",
            "_view_name": "StyleView",
            "button_color": null,
            "font_weight": ""
          }
        },
        "443e51cdad2745f388ed5d80341cd4c2": {
          "model_module": "@jupyter-widgets/controls",
          "model_name": "LabelModel",
          "model_module_version": "1.5.0",
          "state": {
            "_dom_classes": [],
            "_model_module": "@jupyter-widgets/controls",
            "_model_module_version": "1.5.0",
            "_model_name": "LabelModel",
            "_view_count": null,
            "_view_module": "@jupyter-widgets/controls",
            "_view_module_version": "1.5.0",
            "_view_name": "LabelView",
            "description": "",
            "description_tooltip": null,
            "layout": "IPY_MODEL_46b1db720fd64f3780e4f9410b0f06fa",
            "placeholder": "​",
            "style": "IPY_MODEL_75bdaaa393f54f6ea82c33c4721fa860",
            "value": "Best Match: This is a sample sentence about topic 91. (Score: 0.5000)"
          }
        },
        "46b1db720fd64f3780e4f9410b0f06fa": {
          "model_module": "@jupyter-widgets/base",
          "model_name": "LayoutModel",
          "model_module_version": "1.2.0",
          "state": {
            "_model_module": "@jupyter-widgets/base",
            "_model_module_version": "1.2.0",
            "_model_name": "LayoutModel",
            "_view_count": null,
            "_view_module": "@jupyter-widgets/base",
            "_view_module_version": "1.2.0",
            "_view_name": "LayoutView",
            "align_content": null,
            "align_items": null,
            "align_self": null,
            "border": null,
            "bottom": null,
            "display": null,
            "flex": null,
            "flex_flow": null,
            "grid_area": null,
            "grid_auto_columns": null,
            "grid_auto_flow": null,
            "grid_auto_rows": null,
            "grid_column": null,
            "grid_gap": null,
            "grid_row": null,
            "grid_template_areas": null,
            "grid_template_columns": null,
            "grid_template_rows": null,
            "height": null,
            "justify_content": null,
            "justify_items": null,
            "left": null,
            "margin": null,
            "max_height": null,
            "max_width": null,
            "min_height": null,
            "min_width": null,
            "object_fit": null,
            "object_position": null,
            "order": null,
            "overflow": null,
            "overflow_x": null,
            "overflow_y": null,
            "padding": null,
            "right": null,
            "top": null,
            "visibility": null,
            "width": null
          }
        },
        "75bdaaa393f54f6ea82c33c4721fa860": {
          "model_module": "@jupyter-widgets/controls",
          "model_name": "DescriptionStyleModel",
          "model_module_version": "1.5.0",
          "state": {
            "_model_module": "@jupyter-widgets/controls",
            "_model_module_version": "1.5.0",
            "_model_name": "DescriptionStyleModel",
            "_view_count": null,
            "_view_module": "@jupyter-widgets/base",
            "_view_module_version": "1.2.0",
            "_view_name": "StyleView",
            "description_width": ""
          }
        },
        "a2f700a548f841968afc2e79e89eadb4": {
          "model_module": "@jupyter-widgets/controls",
          "model_name": "TextModel",
          "model_module_version": "1.5.0",
          "state": {
            "_dom_classes": [],
            "_model_module": "@jupyter-widgets/controls",
            "_model_module_version": "1.5.0",
            "_model_name": "TextModel",
            "_view_count": null,
            "_view_module": "@jupyter-widgets/controls",
            "_view_module_version": "1.5.0",
            "_view_name": "TextView",
            "continuous_update": true,
            "description": "",
            "description_tooltip": null,
            "disabled": false,
            "layout": "IPY_MODEL_038de2f44bf8432f98d44fee76d3796c",
            "placeholder": "Enter your query...",
            "style": "IPY_MODEL_a07afac946e640d6ac9af5b25cf9db43",
            "value": "ayush"
          }
        },
        "038de2f44bf8432f98d44fee76d3796c": {
          "model_module": "@jupyter-widgets/base",
          "model_name": "LayoutModel",
          "model_module_version": "1.2.0",
          "state": {
            "_model_module": "@jupyter-widgets/base",
            "_model_module_version": "1.2.0",
            "_model_name": "LayoutModel",
            "_view_count": null,
            "_view_module": "@jupyter-widgets/base",
            "_view_module_version": "1.2.0",
            "_view_name": "LayoutView",
            "align_content": null,
            "align_items": null,
            "align_self": null,
            "border": null,
            "bottom": null,
            "display": null,
            "flex": null,
            "flex_flow": null,
            "grid_area": null,
            "grid_auto_columns": null,
            "grid_auto_flow": null,
            "grid_auto_rows": null,
            "grid_column": null,
            "grid_gap": null,
            "grid_row": null,
            "grid_template_areas": null,
            "grid_template_columns": null,
            "grid_template_rows": null,
            "height": null,
            "justify_content": null,
            "justify_items": null,
            "left": null,
            "margin": null,
            "max_height": null,
            "max_width": null,
            "min_height": null,
            "min_width": null,
            "object_fit": null,
            "object_position": null,
            "order": null,
            "overflow": null,
            "overflow_x": null,
            "overflow_y": null,
            "padding": null,
            "right": null,
            "top": null,
            "visibility": null,
            "width": null
          }
        },
        "a07afac946e640d6ac9af5b25cf9db43": {
          "model_module": "@jupyter-widgets/controls",
          "model_name": "DescriptionStyleModel",
          "model_module_version": "1.5.0",
          "state": {
            "_model_module": "@jupyter-widgets/controls",
            "_model_module_version": "1.5.0",
            "_model_name": "DescriptionStyleModel",
            "_view_count": null,
            "_view_module": "@jupyter-widgets/base",
            "_view_module_version": "1.2.0",
            "_view_name": "StyleView",
            "description_width": ""
          }
        },
        "c00854c1701041d3807cd05e6b0dee20": {
          "model_module": "@jupyter-widgets/controls",
          "model_name": "ButtonModel",
          "model_module_version": "1.5.0",
          "state": {
            "_dom_classes": [],
            "_model_module": "@jupyter-widgets/controls",
            "_model_module_version": "1.5.0",
            "_model_name": "ButtonModel",
            "_view_count": null,
            "_view_module": "@jupyter-widgets/controls",
            "_view_module_version": "1.5.0",
            "_view_name": "ButtonView",
            "button_style": "",
            "description": "Search",
            "disabled": false,
            "icon": "",
            "layout": "IPY_MODEL_bdbcd2aebae24032a824b11567210f0a",
            "style": "IPY_MODEL_96cb26b91175440b98b030dfc7b8db0d",
            "tooltip": ""
          }
        },
        "bdbcd2aebae24032a824b11567210f0a": {
          "model_module": "@jupyter-widgets/base",
          "model_name": "LayoutModel",
          "model_module_version": "1.2.0",
          "state": {
            "_model_module": "@jupyter-widgets/base",
            "_model_module_version": "1.2.0",
            "_model_name": "LayoutModel",
            "_view_count": null,
            "_view_module": "@jupyter-widgets/base",
            "_view_module_version": "1.2.0",
            "_view_name": "LayoutView",
            "align_content": null,
            "align_items": null,
            "align_self": null,
            "border": null,
            "bottom": null,
            "display": null,
            "flex": null,
            "flex_flow": null,
            "grid_area": null,
            "grid_auto_columns": null,
            "grid_auto_flow": null,
            "grid_auto_rows": null,
            "grid_column": null,
            "grid_gap": null,
            "grid_row": null,
            "grid_template_areas": null,
            "grid_template_columns": null,
            "grid_template_rows": null,
            "height": null,
            "justify_content": null,
            "justify_items": null,
            "left": null,
            "margin": null,
            "max_height": null,
            "max_width": null,
            "min_height": null,
            "min_width": null,
            "object_fit": null,
            "object_position": null,
            "order": null,
            "overflow": null,
            "overflow_x": null,
            "overflow_y": null,
            "padding": null,
            "right": null,
            "top": null,
            "visibility": null,
            "width": null
          }
        },
        "96cb26b91175440b98b030dfc7b8db0d": {
          "model_module": "@jupyter-widgets/controls",
          "model_name": "ButtonStyleModel",
          "model_module_version": "1.5.0",
          "state": {
            "_model_module": "@jupyter-widgets/controls",
            "_model_module_version": "1.5.0",
            "_model_name": "ButtonStyleModel",
            "_view_count": null,
            "_view_module": "@jupyter-widgets/base",
            "_view_module_version": "1.2.0",
            "_view_name": "StyleView",
            "button_color": null,
            "font_weight": ""
          }
        },
        "bd9fd5475b1444d6851ff010f6641603": {
          "model_module": "@jupyter-widgets/controls",
          "model_name": "LabelModel",
          "model_module_version": "1.5.0",
          "state": {
            "_dom_classes": [],
            "_model_module": "@jupyter-widgets/controls",
            "_model_module_version": "1.5.0",
            "_model_name": "LabelModel",
            "_view_count": null,
            "_view_module": "@jupyter-widgets/controls",
            "_view_module_version": "1.5.0",
            "_view_name": "LabelView",
            "description": "",
            "description_tooltip": null,
            "layout": "IPY_MODEL_c1ada62a1391430e8799b9de7dd200fb",
            "placeholder": "​",
            "style": "IPY_MODEL_791355eef30144b18efd67c17f947457",
            "value": "Best Match: The Turing Test evaluates a machine’s ability to exhibit intelligent behavior indistinguishable from a human. (Score: 0.5000)"
          }
        },
        "c1ada62a1391430e8799b9de7dd200fb": {
          "model_module": "@jupyter-widgets/base",
          "model_name": "LayoutModel",
          "model_module_version": "1.2.0",
          "state": {
            "_model_module": "@jupyter-widgets/base",
            "_model_module_version": "1.2.0",
            "_model_name": "LayoutModel",
            "_view_count": null,
            "_view_module": "@jupyter-widgets/base",
            "_view_module_version": "1.2.0",
            "_view_name": "LayoutView",
            "align_content": null,
            "align_items": null,
            "align_self": null,
            "border": null,
            "bottom": null,
            "display": null,
            "flex": null,
            "flex_flow": null,
            "grid_area": null,
            "grid_auto_columns": null,
            "grid_auto_flow": null,
            "grid_auto_rows": null,
            "grid_column": null,
            "grid_gap": null,
            "grid_row": null,
            "grid_template_areas": null,
            "grid_template_columns": null,
            "grid_template_rows": null,
            "height": null,
            "justify_content": null,
            "justify_items": null,
            "left": null,
            "margin": null,
            "max_height": null,
            "max_width": null,
            "min_height": null,
            "min_width": null,
            "object_fit": null,
            "object_position": null,
            "order": null,
            "overflow": null,
            "overflow_x": null,
            "overflow_y": null,
            "padding": null,
            "right": null,
            "top": null,
            "visibility": null,
            "width": null
          }
        },
        "791355eef30144b18efd67c17f947457": {
          "model_module": "@jupyter-widgets/controls",
          "model_name": "DescriptionStyleModel",
          "model_module_version": "1.5.0",
          "state": {
            "_model_module": "@jupyter-widgets/controls",
            "_model_module_version": "1.5.0",
            "_model_name": "DescriptionStyleModel",
            "_view_count": null,
            "_view_module": "@jupyter-widgets/base",
            "_view_module_version": "1.2.0",
            "_view_name": "StyleView",
            "description_width": ""
          }
        },
        "637af150099f4b4c916deeab8e1cbd49": {
          "model_module": "@jupyter-widgets/controls",
          "model_name": "TextModel",
          "model_module_version": "1.5.0",
          "state": {
            "_dom_classes": [],
            "_model_module": "@jupyter-widgets/controls",
            "_model_module_version": "1.5.0",
            "_model_name": "TextModel",
            "_view_count": null,
            "_view_module": "@jupyter-widgets/controls",
            "_view_module_version": "1.5.0",
            "_view_name": "TextView",
            "continuous_update": true,
            "description": "",
            "description_tooltip": null,
            "disabled": false,
            "layout": "IPY_MODEL_d0a77f578f1e445dbf225ad6557793fa",
            "placeholder": "Enter your query...",
            "style": "IPY_MODEL_e6f0b993c25d46398b3f05f8e5e23ecc",
            "value": "human high temperature"
          }
        },
        "d0a77f578f1e445dbf225ad6557793fa": {
          "model_module": "@jupyter-widgets/base",
          "model_name": "LayoutModel",
          "model_module_version": "1.2.0",
          "state": {
            "_model_module": "@jupyter-widgets/base",
            "_model_module_version": "1.2.0",
            "_model_name": "LayoutModel",
            "_view_count": null,
            "_view_module": "@jupyter-widgets/base",
            "_view_module_version": "1.2.0",
            "_view_name": "LayoutView",
            "align_content": null,
            "align_items": null,
            "align_self": null,
            "border": null,
            "bottom": null,
            "display": null,
            "flex": null,
            "flex_flow": null,
            "grid_area": null,
            "grid_auto_columns": null,
            "grid_auto_flow": null,
            "grid_auto_rows": null,
            "grid_column": null,
            "grid_gap": null,
            "grid_row": null,
            "grid_template_areas": null,
            "grid_template_columns": null,
            "grid_template_rows": null,
            "height": null,
            "justify_content": null,
            "justify_items": null,
            "left": null,
            "margin": null,
            "max_height": null,
            "max_width": null,
            "min_height": null,
            "min_width": null,
            "object_fit": null,
            "object_position": null,
            "order": null,
            "overflow": null,
            "overflow_x": null,
            "overflow_y": null,
            "padding": null,
            "right": null,
            "top": null,
            "visibility": null,
            "width": null
          }
        },
        "e6f0b993c25d46398b3f05f8e5e23ecc": {
          "model_module": "@jupyter-widgets/controls",
          "model_name": "DescriptionStyleModel",
          "model_module_version": "1.5.0",
          "state": {
            "_model_module": "@jupyter-widgets/controls",
            "_model_module_version": "1.5.0",
            "_model_name": "DescriptionStyleModel",
            "_view_count": null,
            "_view_module": "@jupyter-widgets/base",
            "_view_module_version": "1.2.0",
            "_view_name": "StyleView",
            "description_width": ""
          }
        },
        "44a6e491e4f543d4a0826f87b2d63271": {
          "model_module": "@jupyter-widgets/controls",
          "model_name": "ButtonModel",
          "model_module_version": "1.5.0",
          "state": {
            "_dom_classes": [],
            "_model_module": "@jupyter-widgets/controls",
            "_model_module_version": "1.5.0",
            "_model_name": "ButtonModel",
            "_view_count": null,
            "_view_module": "@jupyter-widgets/controls",
            "_view_module_version": "1.5.0",
            "_view_name": "ButtonView",
            "button_style": "",
            "description": "Search",
            "disabled": false,
            "icon": "",
            "layout": "IPY_MODEL_4a56343b68c3423fa224bc9225adc635",
            "style": "IPY_MODEL_55c014829d094f2cbd0e65c4eb1171d8",
            "tooltip": ""
          }
        },
        "4a56343b68c3423fa224bc9225adc635": {
          "model_module": "@jupyter-widgets/base",
          "model_name": "LayoutModel",
          "model_module_version": "1.2.0",
          "state": {
            "_model_module": "@jupyter-widgets/base",
            "_model_module_version": "1.2.0",
            "_model_name": "LayoutModel",
            "_view_count": null,
            "_view_module": "@jupyter-widgets/base",
            "_view_module_version": "1.2.0",
            "_view_name": "LayoutView",
            "align_content": null,
            "align_items": null,
            "align_self": null,
            "border": null,
            "bottom": null,
            "display": null,
            "flex": null,
            "flex_flow": null,
            "grid_area": null,
            "grid_auto_columns": null,
            "grid_auto_flow": null,
            "grid_auto_rows": null,
            "grid_column": null,
            "grid_gap": null,
            "grid_row": null,
            "grid_template_areas": null,
            "grid_template_columns": null,
            "grid_template_rows": null,
            "height": null,
            "justify_content": null,
            "justify_items": null,
            "left": null,
            "margin": null,
            "max_height": null,
            "max_width": null,
            "min_height": null,
            "min_width": null,
            "object_fit": null,
            "object_position": null,
            "order": null,
            "overflow": null,
            "overflow_x": null,
            "overflow_y": null,
            "padding": null,
            "right": null,
            "top": null,
            "visibility": null,
            "width": null
          }
        },
        "55c014829d094f2cbd0e65c4eb1171d8": {
          "model_module": "@jupyter-widgets/controls",
          "model_name": "ButtonStyleModel",
          "model_module_version": "1.5.0",
          "state": {
            "_model_module": "@jupyter-widgets/controls",
            "_model_module_version": "1.5.0",
            "_model_name": "ButtonStyleModel",
            "_view_count": null,
            "_view_module": "@jupyter-widgets/base",
            "_view_module_version": "1.2.0",
            "_view_name": "StyleView",
            "button_color": null,
            "font_weight": ""
          }
        },
        "c35d582c57da452e814b03516befa6d2": {
          "model_module": "@jupyter-widgets/controls",
          "model_name": "LabelModel",
          "model_module_version": "1.5.0",
          "state": {
            "_dom_classes": [],
            "_model_module": "@jupyter-widgets/controls",
            "_model_module_version": "1.5.0",
            "_model_name": "LabelModel",
            "_view_count": null,
            "_view_module": "@jupyter-widgets/controls",
            "_view_module_version": "1.5.0",
            "_view_name": "LabelView",
            "description": "",
            "description_tooltip": null,
            "layout": "IPY_MODEL_778fd8fafa18466bb24d7da25b7f0a70",
            "placeholder": "​",
            "style": "IPY_MODEL_030ea3e438e2498c902d076a73e4f2c1",
            "value": "Best Match: Climate change results from human activities like deforestation and burning fossil fuels, leading to global warming. (Score: 0.9221)"
          }
        },
        "778fd8fafa18466bb24d7da25b7f0a70": {
          "model_module": "@jupyter-widgets/base",
          "model_name": "LayoutModel",
          "model_module_version": "1.2.0",
          "state": {
            "_model_module": "@jupyter-widgets/base",
            "_model_module_version": "1.2.0",
            "_model_name": "LayoutModel",
            "_view_count": null,
            "_view_module": "@jupyter-widgets/base",
            "_view_module_version": "1.2.0",
            "_view_name": "LayoutView",
            "align_content": null,
            "align_items": null,
            "align_self": null,
            "border": null,
            "bottom": null,
            "display": null,
            "flex": null,
            "flex_flow": null,
            "grid_area": null,
            "grid_auto_columns": null,
            "grid_auto_flow": null,
            "grid_auto_rows": null,
            "grid_column": null,
            "grid_gap": null,
            "grid_row": null,
            "grid_template_areas": null,
            "grid_template_columns": null,
            "grid_template_rows": null,
            "height": null,
            "justify_content": null,
            "justify_items": null,
            "left": null,
            "margin": null,
            "max_height": null,
            "max_width": null,
            "min_height": null,
            "min_width": null,
            "object_fit": null,
            "object_position": null,
            "order": null,
            "overflow": null,
            "overflow_x": null,
            "overflow_y": null,
            "padding": null,
            "right": null,
            "top": null,
            "visibility": null,
            "width": null
          }
        },
        "030ea3e438e2498c902d076a73e4f2c1": {
          "model_module": "@jupyter-widgets/controls",
          "model_name": "DescriptionStyleModel",
          "model_module_version": "1.5.0",
          "state": {
            "_model_module": "@jupyter-widgets/controls",
            "_model_module_version": "1.5.0",
            "_model_name": "DescriptionStyleModel",
            "_view_count": null,
            "_view_module": "@jupyter-widgets/base",
            "_view_module_version": "1.2.0",
            "_view_name": "StyleView",
            "description_width": ""
          }
        }
      }
    }
  },
  "cells": [
    {
      "cell_type": "markdown",
      "metadata": {
        "id": "view-in-github",
        "colab_type": "text"
      },
      "source": [
        "<a href=\"https://colab.research.google.com/github/ArkS0001/Improve-RAGs/blob/main/Dense%2BSparse.ipynb\" target=\"_parent\"><img src=\"https://colab.research.google.com/assets/colab-badge.svg\" alt=\"Open In Colab\"/></a>"
      ]
    },
    {
      "cell_type": "code",
      "source": [
        "pip install rank_bm25\n"
      ],
      "metadata": {
        "colab": {
          "base_uri": "https://localhost:8080/"
        },
        "id": "apeh1WJYX-Qx",
        "outputId": "09dcb859-6dae-48e9-927c-523dd5d00cc5"
      },
      "execution_count": 8,
      "outputs": [
        {
          "output_type": "stream",
          "name": "stdout",
          "text": [
            "Requirement already satisfied: rank_bm25 in /usr/local/lib/python3.11/dist-packages (0.2.2)\n",
            "Requirement already satisfied: numpy in /usr/local/lib/python3.11/dist-packages (from rank_bm25) (1.26.4)\n"
          ]
        }
      ]
    },
    {
      "cell_type": "code",
      "source": [
        "import nltk\n",
        "nltk.download('punkt')\n"
      ],
      "metadata": {
        "colab": {
          "base_uri": "https://localhost:8080/"
        },
        "id": "nuLUBIrWYYEt",
        "outputId": "c30f0228-0107-4931-ef0c-aeff3b825253"
      },
      "execution_count": 12,
      "outputs": [
        {
          "output_type": "stream",
          "name": "stdout",
          "text": [
            "Requirement already satisfied: nltk in /usr/local/lib/python3.11/dist-packages (3.9.1)\n",
            "Requirement already satisfied: click in /usr/local/lib/python3.11/dist-packages (from nltk) (8.1.8)\n",
            "Requirement already satisfied: joblib in /usr/local/lib/python3.11/dist-packages (from nltk) (1.4.2)\n",
            "Requirement already satisfied: regex>=2021.8.3 in /usr/local/lib/python3.11/dist-packages (from nltk) (2024.11.6)\n",
            "Requirement already satisfied: tqdm in /usr/local/lib/python3.11/dist-packages (from nltk) (4.67.1)\n"
          ]
        },
        {
          "output_type": "stream",
          "name": "stderr",
          "text": [
            "[nltk_data] Downloading package punkt_tab to /root/nltk_data...\n",
            "[nltk_data]   Unzipping tokenizers/punkt_tab.zip.\n"
          ]
        },
        {
          "output_type": "execute_result",
          "data": {
            "text/plain": [
              "True"
            ]
          },
          "metadata": {},
          "execution_count": 12
        }
      ]
    },
    {
      "cell_type": "code",
      "source": [
        "import nltk\n",
        "import numpy as np\n",
        "from flask import Flask, render_template, request\n",
        "from sentence_transformers import SentenceTransformer\n",
        "from rank_bm25 import BM25Okapi\n",
        "from nltk.tokenize import word_tokenize\n",
        "import random\n",
        "\n",
        "nltk.download('punkt')\n",
        "\n",
        "app = Flask(__name__)\n",
        "\n",
        "# Load dense embedding model\n",
        "embedding_model = SentenceTransformer(\"all-MiniLM-L6-v2\")\n",
        "\n",
        "# Generate 100 random knowledge base sentences\n",
        "knowledge_base = [\n",
        "    f\"This is a sample sentence about topic {i}.\" for i in range(1, 101)\n",
        "]\n",
        "\n",
        "# Compute dense embeddings\n",
        "dense_embeddings = embedding_model.encode(knowledge_base)\n",
        "\n",
        "# Tokenize for sparse embeddings (BM25)\n",
        "tokenized_docs = [word_tokenize(doc.lower()) for doc in knowledge_base]\n",
        "bm25 = BM25Okapi(tokenized_docs)\n",
        "\n",
        "def hybrid_search(query):\n",
        "    \"\"\"Performs hybrid search combining dense and sparse retrieval.\"\"\"\n",
        "    # Dense retrieval\n",
        "    query_embedding = embedding_model.encode(query)\n",
        "    dense_scores = np.dot(dense_embeddings, query_embedding)  # Cosine similarity\n",
        "    dense_scores = dense_scores / np.max(dense_scores)  # Normalize\n",
        "\n",
        "    # Sparse retrieval\n",
        "    tokenized_query = word_tokenize(query.lower())\n",
        "    sparse_scores = np.array(bm25.get_scores(tokenized_query))\n",
        "    sparse_scores = sparse_scores / np.max(sparse_scores)  # Normalize\n",
        "\n",
        "    # Hybrid score (weighted sum)\n",
        "    hybrid_scores = 0.5 * dense_scores + 0.5 * sparse_scores\n",
        "    best_match_index = np.argmax(hybrid_scores)\n",
        "    return knowledge_base[best_match_index], hybrid_scores[best_match_index]\n",
        "\n",
        "@app.route('/', methods=['GET', 'POST'])\n",
        "def index():\n",
        "    result = \"\"\n",
        "    if request.method == 'POST':\n",
        "        query = request.form['query']\n",
        "        best_match, score = hybrid_search(query)\n",
        "        result = f\"Best Match: {best_match} (Score: {score:.4f})\"\n",
        "    return render_template('index.html', result=result)\n",
        "\n",
        "if __name__ == '__main__':\n",
        "    app.run(debug=True)\n"
      ],
      "metadata": {
        "colab": {
          "base_uri": "https://localhost:8080/"
        },
        "id": "aAOkkedMZaZF",
        "outputId": "c46fba2b-e920-4cf9-830e-020c271600fe"
      },
      "execution_count": 15,
      "outputs": [
        {
          "output_type": "stream",
          "name": "stderr",
          "text": [
            "[nltk_data] Downloading package punkt to /root/nltk_data...\n",
            "[nltk_data]   Package punkt is already up-to-date!\n"
          ]
        },
        {
          "output_type": "stream",
          "name": "stdout",
          "text": [
            " * Serving Flask app '__main__'\n",
            " * Debug mode: on\n"
          ]
        },
        {
          "output_type": "stream",
          "name": "stderr",
          "text": [
            "INFO:werkzeug:\u001b[31m\u001b[1mWARNING: This is a development server. Do not use it in a production deployment. Use a production WSGI server instead.\u001b[0m\n",
            " * Running on http://127.0.0.1:5000\n",
            "INFO:werkzeug:\u001b[33mPress CTRL+C to quit\u001b[0m\n",
            "INFO:werkzeug: * Restarting with stat\n"
          ]
        }
      ]
    },
    {
      "cell_type": "code",
      "source": [
        "import nltk\n",
        "import numpy as np\n",
        "import random\n",
        "import ipywidgets as widgets\n",
        "from IPython.display import display\n",
        "from sentence_transformers import SentenceTransformer\n",
        "from rank_bm25 import BM25Okapi\n",
        "from nltk.tokenize import word_tokenize\n",
        "\n",
        "nltk.download('punkt')\n",
        "\n",
        "# Load dense embedding model\n",
        "embedding_model = SentenceTransformer(\"all-MiniLM-L6-v2\")\n",
        "\n",
        "# Generate 100 random knowledge base sentences\n",
        "knowledge_base = [\n",
        "    f\"This is a sample sentence about topic {i}.\" for i in range(1, 101)\n",
        "]\n",
        "\n",
        "# Compute dense embeddings\n",
        "dense_embeddings = embedding_model.encode(knowledge_base)\n",
        "\n",
        "# Tokenize for sparse embeddings (BM25)\n",
        "tokenized_docs = [word_tokenize(doc.lower()) for doc in knowledge_base]\n",
        "bm25 = BM25Okapi(tokenized_docs)\n",
        "\n",
        "def hybrid_search(query):\n",
        "    \"\"\"Performs hybrid search combining dense and sparse retrieval.\"\"\"\n",
        "    # Dense retrieval\n",
        "    query_embedding = embedding_model.encode(query)\n",
        "    dense_scores = np.dot(dense_embeddings, query_embedding)  # Cosine similarity\n",
        "    dense_scores = dense_scores / np.max(dense_scores)  # Normalize\n",
        "\n",
        "    # Sparse retrieval\n",
        "    tokenized_query = word_tokenize(query.lower())\n",
        "    sparse_scores = np.array(bm25.get_scores(tokenized_query))\n",
        "    max_sparse = np.max(sparse_scores)\n",
        "    if max_sparse > 0:\n",
        "        sparse_scores = sparse_scores / max_sparse  # Normalize\n",
        "    else:\n",
        "        sparse_scores = np.zeros_like(sparse_scores)  # Avoid NaN\n",
        "\n",
        "    # Hybrid score (weighted sum)\n",
        "    hybrid_scores = 0.5 * dense_scores + 0.5 * sparse_scores\n",
        "    best_match_index = np.argmax(hybrid_scores)\n",
        "    return knowledge_base[best_match_index], hybrid_scores[best_match_index]\n",
        "\n",
        "# UI with ipywidgets\n",
        "def on_button_click(b):\n",
        "    query = query_input.value\n",
        "    best_match, score = hybrid_search(query)\n",
        "    output_label.value = f\"Best Match: {best_match} (Score: {score:.4f})\"\n",
        "\n",
        "query_input = widgets.Text(placeholder='Enter your query...')\n",
        "search_button = widgets.Button(description='Search')\n",
        "output_label = widgets.Label()\n",
        "search_button.on_click(on_button_click)\n",
        "\n",
        "display(query_input, search_button, output_label)\n"
      ],
      "metadata": {
        "colab": {
          "base_uri": "https://localhost:8080/",
          "height": 148,
          "referenced_widgets": [
            "1f1a1bb6b7af4f308625eb62da58b7f3",
            "95fe550243044f47910a05bca8848b0e",
            "3faa4da1ee9b4413983f8458c7503731",
            "c6312a1efbd74638abfcaeacd2ed6e9a",
            "708029ff4da340f0aa53ef3bdd0c2afb",
            "3732d8626dc7470e8247ec78a4e319a0",
            "443e51cdad2745f388ed5d80341cd4c2",
            "46b1db720fd64f3780e4f9410b0f06fa",
            "75bdaaa393f54f6ea82c33c4721fa860"
          ]
        },
        "id": "61mWqxoYZpc8",
        "outputId": "f5edc2d1-4c3e-4362-f01c-751f132fa645"
      },
      "execution_count": 17,
      "outputs": [
        {
          "output_type": "stream",
          "name": "stderr",
          "text": [
            "[nltk_data] Downloading package punkt to /root/nltk_data...\n",
            "[nltk_data]   Package punkt is already up-to-date!\n"
          ]
        },
        {
          "output_type": "display_data",
          "data": {
            "text/plain": [
              "Text(value='', placeholder='Enter your query...')"
            ],
            "application/vnd.jupyter.widget-view+json": {
              "version_major": 2,
              "version_minor": 0,
              "model_id": "1f1a1bb6b7af4f308625eb62da58b7f3"
            }
          },
          "metadata": {}
        },
        {
          "output_type": "display_data",
          "data": {
            "text/plain": [
              "Button(description='Search', style=ButtonStyle())"
            ],
            "application/vnd.jupyter.widget-view+json": {
              "version_major": 2,
              "version_minor": 0,
              "model_id": "c6312a1efbd74638abfcaeacd2ed6e9a"
            }
          },
          "metadata": {}
        },
        {
          "output_type": "display_data",
          "data": {
            "text/plain": [
              "Label(value='')"
            ],
            "application/vnd.jupyter.widget-view+json": {
              "version_major": 2,
              "version_minor": 0,
              "model_id": "443e51cdad2745f388ed5d80341cd4c2"
            }
          },
          "metadata": {}
        }
      ]
    },
    {
      "cell_type": "code",
      "source": [
        "import nltk\n",
        "import numpy as np\n",
        "import random\n",
        "import ipywidgets as widgets\n",
        "from IPython.display import display\n",
        "from sentence_transformers import SentenceTransformer\n",
        "from rank_bm25 import BM25Okapi\n",
        "from nltk.tokenize import word_tokenize\n",
        "\n",
        "nltk.download('punkt')\n",
        "\n",
        "# Load dense embedding model\n",
        "embedding_model = SentenceTransformer(\"all-MiniLM-L6-v2\")\n",
        "\n",
        "# Generate a more complex knowledge base with diverse topics\n",
        "knowledge_base = [\n",
        "    \"Quantum entanglement describes the phenomenon where two particles remain connected, sharing states instantaneously.\",\n",
        "    \"Machine learning algorithms can be categorized into supervised, unsupervised, and reinforcement learning models.\",\n",
        "    \"The theory of general relativity explains gravity as the curvature of spacetime caused by mass and energy.\",\n",
        "    \"Photosynthesis is the process by which plants convert light energy into chemical energy, releasing oxygen.\",\n",
        "    \"Blockchain is a decentralized ledger technology that ensures transparency and security in transactions.\",\n",
        "    \"The Turing Test evaluates a machine’s ability to exhibit intelligent behavior indistinguishable from a human.\",\n",
        "    \"Dark matter is an unknown form of matter that does not emit light but exerts gravitational effects in the universe.\",\n",
        "    \"CRISPR technology allows for precise genetic modifications, revolutionizing biotechnology and medicine.\",\n",
        "    \"Neural networks, inspired by the human brain, are fundamental to deep learning models used in AI.\",\n",
        "    \"Fusion energy, the process powering the Sun, has the potential to provide unlimited clean energy on Earth.\"\n",
        "] + [\n",
        "    f\"Topic {i}: This is a more advanced discussion on subject matter {i}, exploring its implications and challenges.\"\n",
        "    for i in range(11, 101)\n",
        "]\n",
        "\n",
        "# Compute dense embeddings\n",
        "dense_embeddings = embedding_model.encode(knowledge_base)\n",
        "\n",
        "# Tokenize for sparse embeddings (BM25)\n",
        "tokenized_docs = [word_tokenize(doc.lower()) for doc in knowledge_base]\n",
        "bm25 = BM25Okapi(tokenized_docs)\n",
        "\n",
        "def hybrid_search(query):\n",
        "    \"\"\"Performs hybrid search combining dense and sparse retrieval.\"\"\"\n",
        "    # Dense retrieval\n",
        "    query_embedding = embedding_model.encode(query)\n",
        "    dense_scores = np.dot(dense_embeddings, query_embedding)  # Cosine similarity\n",
        "    dense_scores = dense_scores / np.max(dense_scores)  # Normalize\n",
        "\n",
        "    # Sparse retrieval\n",
        "    tokenized_query = word_tokenize(query.lower())\n",
        "    sparse_scores = np.array(bm25.get_scores(tokenized_query))\n",
        "    max_sparse = np.max(sparse_scores)\n",
        "    if max_sparse > 0:\n",
        "        sparse_scores = sparse_scores / max_sparse  # Normalize\n",
        "    else:\n",
        "        sparse_scores = np.zeros_like(sparse_scores)  # Avoid NaN\n",
        "\n",
        "    # Hybrid score (weighted sum)\n",
        "    hybrid_scores = 0.5 * dense_scores + 0.5 * sparse_scores\n",
        "    best_match_index = np.argmax(hybrid_scores)\n",
        "    return knowledge_base[best_match_index], hybrid_scores[best_match_index]\n",
        "\n",
        "# UI with ipywidgets\n",
        "def on_button_click(b):\n",
        "    query = query_input.value\n",
        "    best_match, score = hybrid_search(query)\n",
        "    output_label.value = f\"Best Match: {best_match} (Score: {score:.4f})\"\n",
        "\n",
        "query_input = widgets.Text(placeholder='Enter your query...')\n",
        "search_button = widgets.Button(description='Search')\n",
        "output_label = widgets.Label()\n",
        "search_button.on_click(on_button_click)\n",
        "\n",
        "display(query_input, search_button, output_label)\n"
      ],
      "metadata": {
        "colab": {
          "base_uri": "https://localhost:8080/",
          "height": 148,
          "referenced_widgets": [
            "a2f700a548f841968afc2e79e89eadb4",
            "038de2f44bf8432f98d44fee76d3796c",
            "a07afac946e640d6ac9af5b25cf9db43",
            "c00854c1701041d3807cd05e6b0dee20",
            "bdbcd2aebae24032a824b11567210f0a",
            "96cb26b91175440b98b030dfc7b8db0d",
            "bd9fd5475b1444d6851ff010f6641603",
            "c1ada62a1391430e8799b9de7dd200fb",
            "791355eef30144b18efd67c17f947457"
          ]
        },
        "id": "wWC7Veu2aI2O",
        "outputId": "f9e35343-9f50-41f6-de83-7ed159e2f40e"
      },
      "execution_count": 18,
      "outputs": [
        {
          "output_type": "stream",
          "name": "stderr",
          "text": [
            "[nltk_data] Downloading package punkt to /root/nltk_data...\n",
            "[nltk_data]   Package punkt is already up-to-date!\n"
          ]
        },
        {
          "output_type": "display_data",
          "data": {
            "text/plain": [
              "Text(value='', placeholder='Enter your query...')"
            ],
            "application/vnd.jupyter.widget-view+json": {
              "version_major": 2,
              "version_minor": 0,
              "model_id": "a2f700a548f841968afc2e79e89eadb4"
            }
          },
          "metadata": {}
        },
        {
          "output_type": "display_data",
          "data": {
            "text/plain": [
              "Button(description='Search', style=ButtonStyle())"
            ],
            "application/vnd.jupyter.widget-view+json": {
              "version_major": 2,
              "version_minor": 0,
              "model_id": "c00854c1701041d3807cd05e6b0dee20"
            }
          },
          "metadata": {}
        },
        {
          "output_type": "display_data",
          "data": {
            "text/plain": [
              "Label(value='')"
            ],
            "application/vnd.jupyter.widget-view+json": {
              "version_major": 2,
              "version_minor": 0,
              "model_id": "bd9fd5475b1444d6851ff010f6641603"
            }
          },
          "metadata": {}
        }
      ]
    },
    {
      "cell_type": "code",
      "source": [
        "import nltk\n",
        "import numpy as np\n",
        "import random\n",
        "import ipywidgets as widgets\n",
        "from IPython.display import display\n",
        "from sentence_transformers import SentenceTransformer\n",
        "from rank_bm25 import BM25Okapi\n",
        "from nltk.tokenize import word_tokenize\n",
        "\n",
        "nltk.download('punkt')\n",
        "\n",
        "# Load dense embedding model\n",
        "embedding_model = SentenceTransformer(\"all-MiniLM-L6-v2\")\n",
        "\n",
        "# Generate an extensive knowledge base with diverse topics\n",
        "knowledge_base = [\n",
        "    # Science & Technology\n",
        "    \"Quantum entanglement describes the phenomenon where two particles remain connected, sharing states instantaneously.\",\n",
        "    \"The theory of general relativity explains gravity as the curvature of spacetime caused by mass and energy.\",\n",
        "    \"Neural networks, inspired by the human brain, are fundamental to deep learning models used in AI.\",\n",
        "    \"Blockchain is a decentralized ledger technology that ensures transparency and security in transactions.\",\n",
        "    \"CRISPR technology allows for precise genetic modifications, revolutionizing biotechnology and medicine.\",\n",
        "    \"The Turing Test evaluates a machine’s ability to exhibit intelligent behavior indistinguishable from a human.\",\n",
        "    \"Fusion energy, the process powering the Sun, has the potential to provide unlimited clean energy on Earth.\",\n",
        "    \"Dark matter is an unknown form of matter that does not emit light but exerts gravitational effects in the universe.\",\n",
        "    \"Photosynthesis is the process by which plants convert light energy into chemical energy, releasing oxygen.\",\n",
        "    \"RNA vaccines, like those for COVID-19, use messenger RNA to instruct cells to build an immune response.\",\n",
        "    \"Artificial Intelligence is transforming industries through automation, predictive analytics, and data-driven decision-making.\",\n",
        "    \"Superconductors allow electricity to flow without resistance at extremely low temperatures.\",\n",
        "    \"Graphene is a one-atom-thick layer of carbon that has extraordinary electrical, thermal, and mechanical properties.\",\n",
        "    \"Edge computing reduces latency by processing data closer to the source rather than relying on centralized cloud servers.\",\n",
        "\n",
        "    # Space & Astronomy\n",
        "    \"The James Webb Space Telescope is designed to observe the universe’s first galaxies and exoplanets in infrared light.\",\n",
        "    \"Black holes have such a strong gravitational pull that nothing, not even light, can escape from them.\",\n",
        "    \"Exoplanets are planets outside our solar system, with thousands discovered using the Kepler and TESS telescopes.\",\n",
        "    \"Astrobiology is the study of life’s potential in the universe, searching for microbial life on Mars and Europa.\",\n",
        "    \"SpaceX successfully launched the Falcon Heavy, a reusable rocket capable of carrying heavy payloads to deep space.\",\n",
        "\n",
        "    # History & Geography\n",
        "    \"The Great Wall of China was built over several centuries to protect against invasions from northern tribes.\",\n",
        "    \"The Industrial Revolution marked a period of rapid technological advancements and urbanization in the 18th century.\",\n",
        "    \"The Cold War was a period of geopolitical tension between the United States and the Soviet Union from 1947 to 1991.\",\n",
        "    \"Ancient Egyptian civilization is known for its pyramids, hieroglyphic writing, and advances in engineering and astronomy.\",\n",
        "    \"The Roman Empire was one of history’s most powerful civilizations, known for its roads, architecture, and military strength.\",\n",
        "    \"The Silk Road was an ancient trade network connecting China, India, the Middle East, and Europe.\",\n",
        "    \"World War II lasted from 1939 to 1945 and involved major global powers, ending with the defeat of Nazi Germany and Japan.\",\n",
        "    \"The Renaissance was a cultural movement in Europe that led to advancements in art, science, and literature.\",\n",
        "\n",
        "    # Current Affairs & Economics\n",
        "    \"Cryptocurrencies like Bitcoin and Ethereum use blockchain technology for decentralized transactions.\",\n",
        "    \"Inflation occurs when the prices of goods and services rise, reducing purchasing power over time.\",\n",
        "    \"Renewable energy sources such as solar, wind, and hydroelectric power are key to reducing carbon emissions.\",\n",
        "    \"The global supply chain crisis has led to increased shipping costs and delays due to pandemic-related disruptions.\",\n",
        "    \"Electric vehicles (EVs) are becoming more popular as battery technology improves and charging infrastructure expands.\",\n",
        "    \"Artificial Intelligence is increasingly being used in finance for fraud detection and automated trading strategies.\",\n",
        "    \"The semiconductor chip shortage has affected industries from automotive to consumer electronics worldwide.\",\n",
        "    \"E-commerce has experienced rapid growth, with companies like Amazon and Alibaba dominating the market.\",\n",
        "\n",
        "    # Public Knowledge & Daily Life\n",
        "    \"A balanced diet consists of carbohydrates, proteins, fats, vitamins, and minerals for overall health.\",\n",
        "    \"Water makes up about 60% of the human body and is essential for survival.\",\n",
        "    \"Sleep is crucial for brain function, memory consolidation, and overall physical health.\",\n",
        "    \"Exercise helps reduce the risk of chronic diseases like obesity, heart disease, and diabetes.\",\n",
        "    \"Vitamin D is essential for bone health and is obtained from sunlight exposure and certain foods.\",\n",
        "    \"Recycling helps reduce waste and conserves natural resources by repurposing materials.\",\n",
        "    \"The average human heart beats about 100,000 times per day, pumping blood throughout the body.\",\n",
        "    \"Plastic pollution is a major environmental issue, affecting marine life and ecosystems.\",\n",
        "    \"Social media platforms influence public opinion and have become a key tool for communication and business.\",\n",
        "    \"Artificial Intelligence is being used in customer service through chatbots and virtual assistants.\",\n",
        "\n",
        "    # Cybersecurity & Privacy\n",
        "    \"Multi-factor authentication (MFA) enhances security by requiring multiple forms of verification.\",\n",
        "    \"Phishing attacks trick users into providing personal information through deceptive emails or websites.\",\n",
        "    \"End-to-end encryption ensures that only the sender and recipient can read a message, protecting privacy.\",\n",
        "    \"The Tor network allows anonymous browsing by routing traffic through a series of encrypted relays.\",\n",
        "    \"Ransomware attacks encrypt victims’ files and demand payment for their release.\",\n",
        "    \"Cybersecurity best practices include using strong passwords, updating software, and avoiding suspicious links.\",\n",
        "    \"Data breaches can expose sensitive personal information, leading to identity theft and financial fraud.\",\n",
        "\n",
        "    # Medicine & Biology\n",
        "    \"The human genome contains approximately 20,000-25,000 genes that determine physical traits and functions.\",\n",
        "    \"Antibiotics help fight bacterial infections but are ineffective against viruses like the common cold.\",\n",
        "    \"Stem cells have the potential to develop into different types of cells, offering possibilities for regenerative medicine.\",\n",
        "    \"Cancer is a group of diseases characterized by uncontrolled cell growth, which can spread to other body parts.\",\n",
        "    \"The brain’s hippocampus is critical for memory formation and learning.\",\n",
        "    \"Dopamine is a neurotransmitter that plays a key role in pleasure, motivation, and reward.\",\n",
        "    \"CRISPR-Cas9 is a revolutionary gene-editing technology allowing precise modifications of DNA.\",\n",
        "    \"Alzheimer’s disease is a neurodegenerative condition that affects memory and cognitive function.\",\n",
        "    \"The placebo effect occurs when a patient experiences improvements despite receiving a non-active treatment.\",\n",
        "\n",
        "    # Emerging Technologies\n",
        "    \"5G technology offers higher data speeds and lower latency compared to previous generations of mobile networks.\",\n",
        "    \"Quantum computing has the potential to solve complex problems much faster than classical computers.\",\n",
        "    \"Autonomous vehicles use sensors and AI to navigate without human intervention.\",\n",
        "    \"Nanotechnology involves manipulating materials at the atomic and molecular scale for applications in medicine and industry.\",\n",
        "    \"Smart homes use IoT devices to automate lighting, heating, and security systems.\",\n",
        "    \"Biometric authentication, such as facial recognition and fingerprint scanning, enhances digital security.\",\n",
        "    \"Augmented reality (AR) overlays digital content onto the real world, enhancing user experiences in gaming and retail.\",\n",
        "    \"The metaverse is a virtual world where users can interact through digital avatars in immersive environments.\",\n",
        "    \"AI-powered drug discovery accelerates the development of new pharmaceuticals by predicting molecule interactions.\",\n",
        "\n",
        "    # Environment & Sustainability\n",
        "    \"Climate change results from human activities like deforestation and burning fossil fuels, leading to global warming.\",\n",
        "    \"Carbon capture technology aims to reduce greenhouse gas emissions by storing carbon underground.\",\n",
        "    \"Deforestation contributes to biodiversity loss and disrupts ecosystems.\",\n",
        "    \"Ocean acidification, caused by increased CO2 levels, harms marine life, including coral reefs.\",\n",
        "    \"The Paris Agreement is an international treaty aimed at reducing global carbon emissions to combat climate change.\",\n",
        "    \"Biodiversity is essential for ecosystem stability, providing resources like food, medicine, and clean air.\"\n",
        "]\n",
        "\n",
        "# Compute dense embeddings\n",
        "dense_embeddings = embedding_model.encode(knowledge_base)\n",
        "\n",
        "# Tokenize for sparse embeddings (BM25)\n",
        "tokenized_docs = [word_tokenize(doc.lower()) for doc in knowledge_base]\n",
        "bm25 = BM25Okapi(tokenized_docs)\n",
        "\n",
        "def hybrid_search(query):\n",
        "    \"\"\"Performs hybrid search combining dense and sparse retrieval.\"\"\"\n",
        "    # Dense retrieval\n",
        "    query_embedding = embedding_model.encode(query)\n",
        "    dense_scores = np.dot(dense_embeddings, query_embedding)  # Cosine similarity\n",
        "    dense_scores = dense_scores / np.max(dense_scores)  # Normalize\n",
        "\n",
        "    # Sparse retrieval\n",
        "    tokenized_query = word_tokenize(query.lower())\n",
        "    sparse_scores = np.array(bm25.get_scores(tokenized_query))\n",
        "    max_sparse = np.max(sparse_scores)\n",
        "    if max_sparse > 0:\n",
        "        sparse_scores = sparse_scores / max_sparse  # Normalize\n",
        "    else:\n",
        "        sparse_scores = np.zeros_like(sparse_scores)  # Avoid NaN\n",
        "\n",
        "    # Hybrid score (weighted sum)\n",
        "    hybrid_scores = 0.5 * dense_scores + 0.5 * sparse_scores\n",
        "    best_match_index = np.argmax(hybrid_scores)\n",
        "    return knowledge_base[best_match_index], hybrid_scores[best_match_index]\n",
        "\n",
        "# UI with ipywidgets\n",
        "def on_button_click(b):\n",
        "    query = query_input.value\n",
        "    best_match, score = hybrid_search(query)\n",
        "    output_label.value = f\"Best Match: {best_match} (Score: {score:.4f})\"\n",
        "\n",
        "query_input = widgets.Text(placeholder='Enter your query...')\n",
        "search_button = widgets.Button(description='Search')\n",
        "output_label = widgets.Label()\n",
        "search_button.on_click(on_button_click)\n",
        "\n",
        "display(query_input, search_button, output_label)\n"
      ],
      "metadata": {
        "colab": {
          "base_uri": "https://localhost:8080/",
          "height": 148,
          "referenced_widgets": [
            "637af150099f4b4c916deeab8e1cbd49",
            "d0a77f578f1e445dbf225ad6557793fa",
            "e6f0b993c25d46398b3f05f8e5e23ecc",
            "44a6e491e4f543d4a0826f87b2d63271",
            "4a56343b68c3423fa224bc9225adc635",
            "55c014829d094f2cbd0e65c4eb1171d8",
            "c35d582c57da452e814b03516befa6d2",
            "778fd8fafa18466bb24d7da25b7f0a70",
            "030ea3e438e2498c902d076a73e4f2c1"
          ]
        },
        "id": "3YgQ5rDjc5xk",
        "outputId": "12ef165a-2822-4efd-d558-fd7f308b0837"
      },
      "execution_count": 19,
      "outputs": [
        {
          "output_type": "stream",
          "name": "stderr",
          "text": [
            "[nltk_data] Downloading package punkt to /root/nltk_data...\n",
            "[nltk_data]   Package punkt is already up-to-date!\n"
          ]
        },
        {
          "output_type": "display_data",
          "data": {
            "text/plain": [
              "Text(value='', placeholder='Enter your query...')"
            ],
            "application/vnd.jupyter.widget-view+json": {
              "version_major": 2,
              "version_minor": 0,
              "model_id": "637af150099f4b4c916deeab8e1cbd49"
            }
          },
          "metadata": {}
        },
        {
          "output_type": "display_data",
          "data": {
            "text/plain": [
              "Button(description='Search', style=ButtonStyle())"
            ],
            "application/vnd.jupyter.widget-view+json": {
              "version_major": 2,
              "version_minor": 0,
              "model_id": "44a6e491e4f543d4a0826f87b2d63271"
            }
          },
          "metadata": {}
        },
        {
          "output_type": "display_data",
          "data": {
            "text/plain": [
              "Label(value='')"
            ],
            "application/vnd.jupyter.widget-view+json": {
              "version_major": 2,
              "version_minor": 0,
              "model_id": "c35d582c57da452e814b03516befa6d2"
            }
          },
          "metadata": {}
        }
      ]
    }
  ]
}